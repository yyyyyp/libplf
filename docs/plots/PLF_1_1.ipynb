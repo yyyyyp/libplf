{
 "cells": [
  {
   "cell_type": "markdown",
   "metadata": {},
   "source": [
    "# $\\text{PLF}_{\\mathbb{R} \\rightarrow \\mathbb{R}}$"
   ]
  },
  {
   "cell_type": "markdown",
   "metadata": {},
   "source": [
    "In mathematics and statistics, a piecewise linear, PL or segmented function is a real-valued function of a real variable, whose graph is composed of straight-line segments."
   ]
  },
  {
   "cell_type": "markdown",
   "metadata": {},
   "source": [
    "A piecewise linear function is a function defined on a interval of real numbers, such that there is a collection of intervals on each of which the function is an affine function. If the domain of the function is compact, there needs to be a finite collection of such intervals; if the domain is not compact, it may either be required to be finite or to be locally finite in the reals."
   ]
  },
  {
   "cell_type": "markdown",
   "metadata": {},
   "source": [
    "In this example, intervals will be inferenced automatically from the `POINTS` provided below. (i.e. `POINTS = [(0, 0), (10, 10), (20, 40), (50, 50), (100, 100)]` will generate interval `[0, 10]`, interval `[10, 20]`, interval `[20, 50]` and interval `[50, 100]`)"
   ]
  },
  {
   "cell_type": "code",
   "execution_count": 2,
   "metadata": {},
   "outputs": [],
   "source": [
    "# EDIT THE `POINTS` BELOW IF YOU WANT \n",
    "\n",
    "POINTS = [\n",
    "    (0, 0),\n",
    "    (10, 10),\n",
    "    (20, 40),\n",
    "    (50, 50),\n",
    "    (100, 100),\n",
    "]"
   ]
  },
  {
   "cell_type": "code",
   "execution_count": 3,
   "metadata": {},
   "outputs": [],
   "source": [
    "# import modules and do global configuration\n",
    "\n",
    "from libplf import plf, piece, point, vector\n",
    "from matplotlib.pyplot import xlabel, ylabel, plot, show\n",
    "%matplotlib inline"
   ]
  },
  {
   "cell_type": "code",
   "execution_count": 4,
   "metadata": {},
   "outputs": [],
   "source": [
    "# build plf with provided data\n",
    "\n",
    "f = plf(*[\n",
    "    piece(\n",
    "        point(\n",
    "            vector(ax),\n",
    "            vector(ay),\n",
    "        ),\n",
    "        point(\n",
    "            vector(bx),\n",
    "            vector(by),\n",
    "        ),\n",
    "    )\n",
    "    for (ax, ay), (bx, by) in zip(POINTS[:-1], POINTS[1:])\n",
    "])"
   ]
  },
  {
   "cell_type": "code",
   "execution_count": 5,
   "metadata": {},
   "outputs": [
    {
     "data": {
      "image/png": "[encoded data removed]",
      "text/plain": [
       "<Figure size 432x288 with 1 Axes>"
      ]
     },
     "metadata": {
      "needs_background": "light"
     },
     "output_type": "display_data"
    }
   ],
   "source": [
    "# plot\n",
    "\n",
    "xs = [x for x, y in POINTS]\n",
    "xmin, xmax = min(xs), max(xs)\n",
    "step = (xmax - xmin) // 0x100 + 1\n",
    "\n",
    "X = [x for x in range(xmin, xmax, step)]\n",
    "Y0 = [f(x) for x in X]\n",
    "Y = [y for y, in Y0]\n",
    "\n",
    "xlabel('x')\n",
    "ylabel('y')\n",
    "plot(X,Y)\n",
    "show()"
   ]
  },
  {
   "cell_type": "code",
   "execution_count": null,
   "metadata": {},
   "outputs": [],
   "source": []
  }
 ],
 "metadata": {
  "kernelspec": {
   "display_name": "Python 3",
   "language": "python",
   "name": "python3"
  },
  "language_info": {
   "codemirror_mode": {
    "name": "ipython",
    "version": 3
   },
   "file_extension": ".py",
   "mimetype": "text/x-python",
   "name": "python",
   "nbconvert_exporter": "python",
   "pygments_lexer": "ipython3",
   "version": "3.7.2"
  }
 },
 "nbformat": 4,
 "nbformat_minor": 4
}
