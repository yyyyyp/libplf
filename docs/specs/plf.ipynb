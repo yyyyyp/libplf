{
 "cells": [
  {
   "cell_type": "markdown",
   "metadata": {},
   "source": [
    "# Piecewise Linear Function"
   ]
  },
  {
   "cell_type": "markdown",
   "metadata": {},
   "source": [
    "In mathematics and statistics, a piecewise linear, PL or segmented function is a real-valued function of a real variable, whose graph is composed of straight-line segments."
   ]
  },
  {
   "cell_type": "markdown",
   "metadata": {},
   "source": [
    "A piecewise linear function is a function defined on a (possibly unbounded) interval of real numbers, such that there is a collection of intervals on each of which the function is an affine function. If the domain of the function is compact, there needs to be a finite collection of such intervals; \n",
    "if the domain is not compact, it may either be required to be finite or to be locally finite in the reals."
   ]
  },
  {
   "cell_type": "markdown",
   "metadata": {},
   "source": [
    "The notion of a piecewise linear function makes sense in several different contexts. Piecewise linear functions may be defined on n-dimensional Euclidean space, or more generally any vector space or affine space, as well as on piecewise linear manifolds, simplicial complexes, and so forth. In each case, the function may be real-valued, or it may take values from a vector space, an affine space, a piecewise linear manifold, or a simplicial complex. (In these contexts, the term “linear” does not refer solely to linear transformations, but to more general affine linear functions.)"
   ]
  },
  {
   "cell_type": "markdown",
   "metadata": {},
   "source": [
    "In dimensions higher than one, it is common to require the domain of each piece to be a polygon or polytope. This guarantees that the graph of the function will be composed of polygonal or polytopal pieces."
   ]
  },
  {
   "cell_type": "markdown",
   "metadata": {},
   "source": [
    "Multidimensional Piecewise Linear Function (MPLF) is defined as follows:"
   ]
  },
  {
   "cell_type": "markdown",
   "metadata": {},
   "source": [
    "$$\n",
    "\\begin{aligned}\n",
    "    & \\forall m,n \\in \\mathbb{N}_{+}: \\\\\n",
    "    & \\qquad \\mathbb{F}^{m \\rightarrow n} =\n",
    "    \\left \\{\n",
    "    \\begin{aligned}\n",
    "        \\mathcal{S}^{m \\rightarrow n} \\subset \\mathbb{S}^{m \\rightarrow n} | & \\forall \\mathcal{P}_i^{m \\rightarrow n} \\in \\mathcal{S}^{m \\rightarrow n}, \\mathcal{P}_j^{m \\rightarrow n} \\in \\mathcal{S}^{m \\rightarrow n}, \\mathbf{p} \\in \\mathbb{R}^m, \\\\\n",
    "         & \\lambda_{\\mathcal{P}_i^{m \\rightarrow n}}(\\mathbf{p}) \\in {[0,1]}^m, \\lambda_{\\mathcal{P}_j^{m \\rightarrow n}}(\\mathbf{p}) \\in {[0,1]}^m: \\\\\n",
    "        & \\qquad f_{\\mathcal{P}_i^{m \\rightarrow n}}(\\mathbf{p}) = f_{\\mathcal{P}_j^{m \\rightarrow n}}(\\mathbf{p}) \\\\\n",
    "    \\end{aligned}\n",
    "    \\right \\} \\\\\n",
    "    & \\text{where}: \\\\\n",
    "    & \\qquad \\mathbb{S}^{m \\rightarrow n} =\n",
    "    \\{\n",
    "    \\mathcal{P}^{m \\rightarrow n} \\subset \\mathbb{R}^m \\times \\mathbb{R}^n |\n",
    "    \\det \\mathbf{R}_{\\mathcal{P}^{m \\rightarrow n}} \\ne 0\n",
    "    \\} \\\\\n",
    "    & \\qquad \\lambda_{\\mathcal{P}^{m \\rightarrow n}}(\\mathbf{p}) =\n",
    "    \\mathbf{R}_{\\mathcal{P}^{m \\rightarrow n}}^{-1}\n",
    "    \\begin{bmatrix}\n",
    "        \\mathbf{p}^T \\\\\n",
    "        1 \\\\\n",
    "    \\end{bmatrix} \\\\\n",
    "    & \\qquad f_{\\mathcal{P}^{m \\rightarrow n}}(\\mathbf{p}) =\n",
    "    \\begin{cases}\n",
    "        \\mathbf{T}_{\\mathcal{P}^{m \\rightarrow n}} \\lambda_{\\mathcal{P}^{m \\rightarrow n}}(\\mathbf{p}) & \\lambda_{\\mathcal{P}^{m \\rightarrow n}}(\\mathbf{p}) \\in {[0,1]}^m \\\\\n",
    "        \\text{undefined} & \\text{else} \\\\\n",
    "    \\end{cases} \\\\\n",
    "    & \\qquad \\mathbf{R}_{\\mathcal{P}^{m \\rightarrow n}} =\n",
    "    \\begin{bmatrix}\n",
    "        \\mathbf{p}_1^T & \\mathbf{p}_2^T & \\dotsc & \\mathbf{p}_i^T & \\dotsc & \\mathbf{p}_j^T & \\dotsc & \\mathbf{p}_{m+1}^T \\\\\n",
    "        1 & 1 & \\dotsc & 1 & \\dotsc & 1 & \\dotsc & 1 \\\\\n",
    "    \\end{bmatrix} \\\\\n",
    "    & \\qquad \\mathbf{T}_{\\mathcal{P}^{m \\rightarrow n}} =\n",
    "    \\begin{bmatrix}\n",
    "        \\mathbf{q}_1^T & \\mathbf{q}_2^T & \\dotsc & \\mathbf{q}_i^T & \\dotsc & \\mathbf{q}_j^T & \\dotsc & \\mathbf{q}_{m+1}^T \\\\\n",
    "    \\end{bmatrix} \\\\\n",
    "    & \\qquad \\text{for}:\\\\\n",
    "    & \\qquad \\qquad \\forall i \\in [1, m+1]:\n",
    "        \\begin{bmatrix}\n",
    "            \\mathbf{p}_i & \\mathbf{q}_i\n",
    "        \\end{bmatrix} \\in \\mathcal{P}^{m \\rightarrow n},\n",
    "        \\mathbf{p}_i \\in \\mathbb{R}^m,\n",
    "        \\mathbf{q}_i \\in \\mathbb{R}^n \\\\\n",
    "    & \\qquad \\qquad \\forall i \\in [1, m+1], j \\in [1, m+1], i \\ne j:\n",
    "    \\begin{bmatrix}\n",
    "        \\mathbf{p}_i & \\mathbf{q}_i\n",
    "    \\end{bmatrix}\n",
    "    \\ne\n",
    "    \\begin{bmatrix}\n",
    "            \\mathbf{p}_j & \\mathbf{q}_j\n",
    "    \\end{bmatrix} \\\\\n",
    "    & \\text{then}: \\\\\n",
    "    & \\qquad \\forall \\mathcal{F}^{m \\rightarrow n} \\in \\mathbb{F}^{m \\rightarrow n}, \\mathbf{p} \\in \\mathbb{R}^m: \\\\\n",
    "    & \\qquad \\qquad f_{\\mathcal{F}^{m \\rightarrow n}}(\\mathbf{p}) =\n",
    "    \\begin{cases}\n",
    "        f_{\\mathcal{P}^{m \\rightarrow n}}(\\mathbf{p}) & \\exists \\mathcal{P}^{m \\rightarrow n} \\in \\mathcal{F}^{m \\rightarrow n}: \\lambda_{\\mathcal{P}^{m \\rightarrow n}}(\\mathbf{p}) \\in {[0,1]}^m \\\\\n",
    "        \\text{undefined} & \\text{else} \\\\\n",
    "    \\end{cases} \\\\\n",
    "\\end{aligned} \\\\\n",
    "$$"
   ]
  },
  {
   "cell_type": "markdown",
   "metadata": {},
   "source": [
    " In general, for every n-dimensional continuous piecewise linear function , any two pieces of this function should satisfy the following properties. "
   ]
  },
  {
   "cell_type": "markdown",
   "metadata": {},
   "source": [
    "1. There will be no intersection between pieces. To measure the intersection in high dimensional, We introduce the barycentric coordinate to describe the relationship among points, polygon and polytope."
   ]
  },
  {
   "cell_type": "markdown",
   "metadata": {},
   "source": [
    "\n",
    "$\\lambda$ represents the barycentric coordinates which can be converted from Cartesian by $\\lambda=\\mathbf{R}^{-1}\\mathbf{r}$\n"
   ]
  },
  {
   "cell_type": "markdown",
   "metadata": {},
   "source": [
    "<p align=\"left\">\n",
    "\\begin{aligned}\n",
    "\\text{where}:\n",
    "\\mathbf{R}=\n",
    "   \\begin{bmatrix}\n",
    "       \\mathbf{p}_1^T & \\mathbf{p}_2^T & \\dotsc & \\mathbf{p}_i^T & \\dotsc & \\mathbf{p}_j^T & \\dotsc & \\mathbf{p}_{m+1}^T \\\\\n",
    "       1 & 1 & \\dotsc & 1 & \\dotsc & 1 & \\dotsc & 1 \\\\\n",
    "   \\end{bmatrix} \n",
    "\\qquad\n",
    "\\mathbf{r}=\n",
    "   \\begin{bmatrix}\n",
    "       \\mathbf{p}^T \\\\\n",
    "       1 \\\\\n",
    "   \\end{bmatrix} \\\\ \n",
    " \\end{aligned} \n",
    "</p>"
   ]
  },
  {
   "cell_type": "markdown",
   "metadata": {},
   "source": [
    "Point lies inside the polygon or polytope if and only if ....."
   ]
  },
  {
   "cell_type": "markdown",
   "metadata": {},
   "source": [
    "2. todo"
   ]
  },
  {
   "cell_type": "markdown",
   "metadata": {},
   "source": [
    "In issues such as stock analysis, weather forecasting and nonlinear circuit design, curves are often used to represent data fluctuations, thereby revealing the trend or nature of the problem. Some of these problems can be approximated by curve fitting. Piecewise linear analysis is one of the common methods. In this method, piecewise linear function is used to approximate nonlinear function."
   ]
  }
 ],
 "metadata": {
  "kernelspec": {
   "display_name": "Python 3",
   "language": "python",
   "name": "python3"
  },
  "language_info": {
   "codemirror_mode": {
    "name": "ipython",
    "version": 3
   },
   "file_extension": ".py",
   "mimetype": "text/x-python",
   "name": "python",
   "nbconvert_exporter": "python",
   "pygments_lexer": "ipython3",
   "version": "3.7.2"
  }
 },
 "nbformat": 4,
 "nbformat_minor": 4
}
